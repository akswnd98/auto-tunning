{
 "cells": [
  {
   "cell_type": "code",
   "execution_count": 2,
   "metadata": {},
   "outputs": [],
   "source": [
    "import sympy as sp\n",
    "from IPython.display import display"
   ]
  },
  {
   "cell_type": "code",
   "execution_count": 17,
   "metadata": {},
   "outputs": [
    {
     "data": {
      "text/latex": [
       "$\\displaystyle \\left[\\begin{matrix}\\cos{\\left(\\psi \\right)} \\cos{\\left(\\theta \\right)} & \\sin{\\left(\\phi \\right)} \\sin{\\left(\\theta \\right)} \\cos{\\left(\\psi \\right)} - \\sin{\\left(\\psi \\right)} \\cos{\\left(\\phi \\right)} & \\sin{\\left(\\phi \\right)} \\sin{\\left(\\psi \\right)} + \\sin{\\left(\\theta \\right)} \\cos{\\left(\\phi \\right)} \\cos{\\left(\\psi \\right)}\\\\\\sin{\\left(\\psi \\right)} \\cos{\\left(\\theta \\right)} & \\sin{\\left(\\phi \\right)} \\sin{\\left(\\psi \\right)} \\sin{\\left(\\theta \\right)} + \\cos{\\left(\\phi \\right)} \\cos{\\left(\\psi \\right)} & - \\sin{\\left(\\phi \\right)} \\cos{\\left(\\psi \\right)} + \\sin{\\left(\\psi \\right)} \\sin{\\left(\\theta \\right)} \\cos{\\left(\\phi \\right)}\\\\- \\sin{\\left(\\theta \\right)} & \\sin{\\left(\\phi \\right)} \\cos{\\left(\\theta \\right)} & \\cos{\\left(\\phi \\right)} \\cos{\\left(\\theta \\right)}\\end{matrix}\\right]$"
      ],
      "text/plain": [
       "Matrix([\n",
       "[cos(psi)*cos(theta), sin(phi)*sin(theta)*cos(psi) - sin(psi)*cos(phi),  sin(phi)*sin(psi) + sin(theta)*cos(phi)*cos(psi)],\n",
       "[sin(psi)*cos(theta), sin(phi)*sin(psi)*sin(theta) + cos(phi)*cos(psi), -sin(phi)*cos(psi) + sin(psi)*sin(theta)*cos(phi)],\n",
       "[        -sin(theta),                              sin(phi)*cos(theta),                               cos(phi)*cos(theta)]])"
      ]
     },
     "metadata": {},
     "output_type": "display_data"
    },
    {
     "data": {
      "text/latex": [
       "$\\displaystyle \\left[\\begin{matrix}\\cos{\\left(\\psi \\right)} \\cos{\\left(\\theta \\right)} & \\sin{\\left(\\psi \\right)} \\cos{\\left(\\theta \\right)} & - \\sin{\\left(\\theta \\right)}\\\\\\sin{\\left(\\phi \\right)} \\sin{\\left(\\theta \\right)} \\cos{\\left(\\psi \\right)} - \\sin{\\left(\\psi \\right)} \\cos{\\left(\\phi \\right)} & \\sin{\\left(\\phi \\right)} \\sin{\\left(\\psi \\right)} \\sin{\\left(\\theta \\right)} + \\cos{\\left(\\phi \\right)} \\cos{\\left(\\psi \\right)} & \\sin{\\left(\\phi \\right)} \\cos{\\left(\\theta \\right)}\\\\\\sin{\\left(\\phi \\right)} \\sin{\\left(\\psi \\right)} + \\sin{\\left(\\theta \\right)} \\cos{\\left(\\phi \\right)} \\cos{\\left(\\psi \\right)} & - \\sin{\\left(\\phi \\right)} \\cos{\\left(\\psi \\right)} + \\sin{\\left(\\psi \\right)} \\sin{\\left(\\theta \\right)} \\cos{\\left(\\phi \\right)} & \\cos{\\left(\\phi \\right)} \\cos{\\left(\\theta \\right)}\\end{matrix}\\right]$"
      ],
      "text/plain": [
       "Matrix([\n",
       "[                             cos(psi)*cos(theta),                               sin(psi)*cos(theta),         -sin(theta)],\n",
       "[sin(phi)*sin(theta)*cos(psi) - sin(psi)*cos(phi),  sin(phi)*sin(psi)*sin(theta) + cos(phi)*cos(psi), sin(phi)*cos(theta)],\n",
       "[sin(phi)*sin(psi) + sin(theta)*cos(phi)*cos(psi), -sin(phi)*cos(psi) + sin(psi)*sin(theta)*cos(phi), cos(phi)*cos(theta)]])"
      ]
     },
     "metadata": {},
     "output_type": "display_data"
    }
   ],
   "source": [
    "# R 검증\n",
    "\n",
    "phi, theta, psi = sp.symbols('phi, theta, psi')\n",
    "\n",
    "Rx = sp.Matrix([\n",
    "  [1, 0, 0],\n",
    "  [0, sp.cos(phi), -sp.sin(phi)],\n",
    "  [0, sp.sin(phi), sp.cos(phi)]\n",
    "])\n",
    "\n",
    "Ry = sp.Matrix([\n",
    "  [sp.cos(theta), 0, sp.sin(theta)],\n",
    "  [0, 1, 0],\n",
    "  [-sp.sin(theta), 0, sp.cos(theta)]\n",
    "])\n",
    "\n",
    "Rz = sp.Matrix([\n",
    "  [sp.cos(psi), -sp.sin(psi), 0],\n",
    "  [sp.sin(psi), sp.cos(psi), 0],\n",
    "  [0, 0, 1]\n",
    "])\n",
    "\n",
    "R = Rz * Ry * Rx\n",
    "\n",
    "display(R)\n",
    "\n",
    "display(R.transpose())\n"
   ]
  },
  {
   "cell_type": "code",
   "execution_count": 4,
   "metadata": {},
   "outputs": [
    {
     "data": {
      "text/latex": [
       "$\\displaystyle \\left[\\begin{matrix}\\sin{\\left(\\theta \\right)} \\cos{\\left(\\phi \\right)}\\\\- \\sin{\\left(\\phi \\right)}\\\\\\cos{\\left(\\phi \\right)} \\cos{\\left(\\theta \\right)}\\end{matrix}\\right]$"
      ],
      "text/plain": [
       "Matrix([\n",
       "[sin(theta)*cos(phi)],\n",
       "[          -sin(phi)],\n",
       "[cos(phi)*cos(theta)]])"
      ]
     },
     "metadata": {},
     "output_type": "display_data"
    }
   ],
   "source": [
    "# 방향 검증\n",
    "\n",
    "v = Ry * Rx * sp.Matrix([0, 0, 1])\n",
    "\n",
    "display(v)\n"
   ]
  },
  {
   "cell_type": "code",
   "execution_count": 5,
   "metadata": {},
   "outputs": [
    {
     "data": {
      "text/latex": [
       "$\\displaystyle \\left[\\begin{matrix}\\dot{\\phi} - \\dot{\\psi} \\sin{\\left(\\theta \\right)}\\\\\\dot{\\psi} \\sin{\\left(\\phi \\right)} \\cos{\\left(\\theta \\right)} + \\dot{\\theta} \\cos{\\left(\\phi \\right)}\\\\\\dot{\\psi} \\cos{\\left(\\phi \\right)} \\cos{\\left(\\theta \\right)} - \\dot{\\theta} \\sin{\\left(\\phi \\right)}\\end{matrix}\\right]$"
      ],
      "text/plain": [
       "Matrix([\n",
       "[                    phidot - psidot*sin(theta)],\n",
       "[psidot*sin(phi)*cos(theta) + thetadot*cos(phi)],\n",
       "[psidot*cos(phi)*cos(theta) - thetadot*sin(phi)]])"
      ]
     },
     "metadata": {},
     "output_type": "display_data"
    },
    {
     "data": {
      "text/latex": [
       "$\\displaystyle \\left[\\begin{matrix}\\dot{\\phi} - \\dot{\\psi} \\sin{\\left(\\theta \\right)}\\\\\\dot{\\psi} \\sin{\\left(\\phi \\right)} \\cos{\\left(\\theta \\right)} + \\dot{\\theta} \\cos{\\left(\\phi \\right)}\\\\\\dot{\\psi} \\cos{\\left(\\phi \\right)} \\cos{\\left(\\theta \\right)} - \\dot{\\theta} \\sin{\\left(\\phi \\right)}\\end{matrix}\\right]$"
      ],
      "text/plain": [
       "Matrix([\n",
       "[                    phidot - psidot*sin(theta)],\n",
       "[psidot*sin(phi)*cos(theta) + thetadot*cos(phi)],\n",
       "[psidot*cos(phi)*cos(theta) - thetadot*sin(phi)]])"
      ]
     },
     "metadata": {},
     "output_type": "display_data"
    },
    {
     "data": {
      "text/latex": [
       "$\\displaystyle \\left[\\begin{matrix}1 & 0 & - \\sin{\\left(\\theta \\right)}\\\\0 & \\cos{\\left(\\phi \\right)} & \\sin{\\left(\\phi \\right)} \\cos{\\left(\\theta \\right)}\\\\0 & - \\sin{\\left(\\phi \\right)} & \\cos{\\left(\\phi \\right)} \\cos{\\left(\\theta \\right)}\\end{matrix}\\right]$"
      ],
      "text/plain": [
       "Matrix([\n",
       "[1,         0,         -sin(theta)],\n",
       "[0,  cos(phi), sin(phi)*cos(theta)],\n",
       "[0, -sin(phi), cos(phi)*cos(theta)]])"
      ]
     },
     "metadata": {},
     "output_type": "display_data"
    }
   ],
   "source": [
    "# C 검증\n",
    "\n",
    "phidot, thetadot, psidot = sp.symbols('phidot, thetadot, psidot')\n",
    "\n",
    "w = \\\n",
    "  sp.Matrix([phidot, 0, 0]) \\\n",
    "  + Rx.transpose() * sp.Matrix([0, thetadot, 0]) \\\n",
    "  + Rx.transpose() * Ry.transpose() * sp.Matrix([0, 0, psidot])\n",
    "\n",
    "C = sp.Matrix([\n",
    "  [1, 0, -sp.sin(theta)],\n",
    "  [0, sp.cos(phi), sp.sin(phi) * sp.cos(theta)],\n",
    "  [0, -sp.sin(phi), sp.cos(phi) * sp.cos(theta)]\n",
    "])\n",
    "display(w)\n",
    "display(C * sp.Matrix([phidot, thetadot, psidot]))\n",
    "\n",
    "display(C)"
   ]
  },
  {
   "cell_type": "code",
   "execution_count": 6,
   "metadata": {},
   "outputs": [
    {
     "data": {
      "text/latex": [
       "$\\displaystyle \\left[\\begin{matrix}0 & 0 & - \\dot{\\theta} \\cos{\\left(\\theta \\right)}\\\\0 & - \\dot{\\phi} \\sin{\\left(\\phi \\right)} & \\dot{\\phi} \\cos{\\left(\\phi \\right)} \\cos{\\left(\\theta \\right)} - \\dot{\\theta} \\sin{\\left(\\phi \\right)} \\sin{\\left(\\theta \\right)}\\\\0 & - \\dot{\\phi} \\cos{\\left(\\phi \\right)} & - \\dot{\\phi} \\sin{\\left(\\phi \\right)} \\cos{\\left(\\theta \\right)} - \\dot{\\theta} \\sin{\\left(\\theta \\right)} \\cos{\\left(\\phi \\right)}\\end{matrix}\\right]$"
      ],
      "text/plain": [
       "Matrix([\n",
       "[0,                0,                                       -thetadot*cos(theta)],\n",
       "[0, -phidot*sin(phi),  phidot*cos(phi)*cos(theta) - thetadot*sin(phi)*sin(theta)],\n",
       "[0, -phidot*cos(phi), -phidot*sin(phi)*cos(theta) - thetadot*sin(theta)*cos(phi)]])"
      ]
     },
     "metadata": {},
     "output_type": "display_data"
    }
   ],
   "source": [
    "# Cdot 검증\n",
    "\n",
    "Cdot = sp.diff(C, phi) * phidot + sp.diff(C, theta) * thetadot + sp.diff(C, psi) * psidot\n",
    "\n",
    "display(Cdot)\n"
   ]
  },
  {
   "cell_type": "code",
   "execution_count": 7,
   "metadata": {},
   "outputs": [
    {
     "data": {
      "text/latex": [
       "$\\displaystyle \\left[\\begin{matrix}1 & 0 & 0\\\\0 & 1 & 0\\\\0 & 0 & 1\\end{matrix}\\right]$"
      ],
      "text/plain": [
       "Matrix([\n",
       "[1, 0, 0],\n",
       "[0, 1, 0],\n",
       "[0, 0, 1]])"
      ]
     },
     "metadata": {},
     "output_type": "display_data"
    },
    {
     "data": {
      "text/latex": [
       "$\\displaystyle \\left[\\begin{matrix}1 & \\sin{\\left(\\phi \\right)} \\tan{\\left(\\theta \\right)} & \\cos{\\left(\\phi \\right)} \\tan{\\left(\\theta \\right)}\\\\0 & \\cos{\\left(\\phi \\right)} & - \\sin{\\left(\\phi \\right)}\\\\0 & \\frac{\\sin{\\left(\\phi \\right)}}{\\cos{\\left(\\theta \\right)}} & \\frac{\\cos{\\left(\\phi \\right)}}{\\cos{\\left(\\theta \\right)}}\\end{matrix}\\right]$"
      ],
      "text/plain": [
       "Matrix([\n",
       "[1, sin(phi)*tan(theta), cos(phi)*tan(theta)],\n",
       "[0,            cos(phi),           -sin(phi)],\n",
       "[0, sin(phi)/cos(theta), cos(phi)/cos(theta)]])"
      ]
     },
     "metadata": {},
     "output_type": "display_data"
    }
   ],
   "source": [
    "# Cinv 검증\n",
    "\n",
    "Cinv = C.inv()\n",
    "Cinv = sp.simplify(Cinv)\n",
    "\n",
    "display(sp.simplify(C * Cinv))\n",
    "\n",
    "display(Cinv)"
   ]
  },
  {
   "cell_type": "code",
   "execution_count": 12,
   "metadata": {},
   "outputs": [
    {
     "data": {
      "text/latex": [
       "$\\displaystyle \\left[\\begin{matrix}\\frac{\\sqrt{2} l \\left(- F_{1} - F_{2} + F_{3} + F_{4}\\right)}{2}\\\\\\frac{\\sqrt{2} l \\left(- F_{1} + F_{2} + F_{3} - F_{4}\\right)}{2}\\\\0\\end{matrix}\\right]$"
      ],
      "text/plain": [
       "Matrix([\n",
       "[sqrt(2)*l*(-F1 - F2 + F3 + F4)/2],\n",
       "[sqrt(2)*l*(-F1 + F2 + F3 - F4)/2],\n",
       "[                               0]])"
      ]
     },
     "metadata": {},
     "output_type": "display_data"
    },
    {
     "data": {
      "text/latex": [
       "$\\displaystyle \\left[\\begin{matrix}0\\\\0\\\\- \\tau_{1} + \\tau_{2} - \\tau_{3} + \\tau_{4}\\end{matrix}\\right]$"
      ],
      "text/plain": [
       "Matrix([\n",
       "[                         0],\n",
       "[                         0],\n",
       "[-tau1 + tau2 - tau3 + tau4]])"
      ]
     },
     "metadata": {},
     "output_type": "display_data"
    },
    {
     "data": {
      "text/latex": [
       "$\\displaystyle \\left[\\begin{matrix}\\frac{\\sqrt{2} l \\left(- F_{1} - F_{2} + F_{3} + F_{4}\\right)}{2}\\\\\\frac{\\sqrt{2} l \\left(- F_{1} + F_{2} + F_{3} - F_{4}\\right)}{2}\\\\- \\tau_{1} + \\tau_{2} - \\tau_{3} + \\tau_{4}\\end{matrix}\\right]$"
      ],
      "text/plain": [
       "Matrix([\n",
       "[sqrt(2)*l*(-F1 - F2 + F3 + F4)/2],\n",
       "[sqrt(2)*l*(-F1 + F2 + F3 - F4)/2],\n",
       "[      -tau1 + tau2 - tau3 + tau4]])"
      ]
     },
     "metadata": {},
     "output_type": "display_data"
    }
   ],
   "source": [
    "# 모멘트 검증\n",
    "\n",
    "l, F1, F2, F3, F4 = sp.symbols('l, F1, F2, F3, F4')\n",
    "\n",
    "Qf = l / sp.sqrt(2) * (\n",
    "  sp.Matrix([1, -1, 0]).cross(sp.Matrix([0, 0, F1]))\n",
    "  + sp.Matrix([-1, -1, 0]).cross(sp.Matrix([0, 0, F2]))\n",
    "  + sp.Matrix([-1, 1, 0]).cross(sp.Matrix([0, 0, F3]))\n",
    "  + sp.Matrix([1, 1, 0]).cross(sp.Matrix([0, 0, F4]))\n",
    ")\n",
    "display(Qf)\n",
    "\n",
    "tau1, tau2, tau3, tau4 = sp.symbols('tau1, tau2, tau3, tau4')\n",
    "Qt = sp.Matrix([0, 0, -tau1 + tau2 + -tau3 + tau4])\n",
    "display(Qt)\n",
    "\n",
    "display(Qf + Qt)\n"
   ]
  },
  {
   "cell_type": "code",
   "execution_count": 15,
   "metadata": {},
   "outputs": [
    {
     "data": {
      "text/latex": [
       "$\\displaystyle \\left[\\begin{matrix}- \\frac{\\sqrt{2}}{4 l} & - \\frac{\\sqrt{2}}{4 l} & \\frac{1}{4 r} & \\frac{m}{4}\\\\- \\frac{\\sqrt{2}}{4 l} & \\frac{\\sqrt{2}}{4 l} & - \\frac{1}{4 r} & \\frac{m}{4}\\\\\\frac{\\sqrt{2}}{4 l} & \\frac{\\sqrt{2}}{4 l} & \\frac{1}{4 r} & \\frac{m}{4}\\\\\\frac{\\sqrt{2}}{4 l} & - \\frac{\\sqrt{2}}{4 l} & - \\frac{1}{4 r} & \\frac{m}{4}\\end{matrix}\\right]$"
      ],
      "text/plain": [
       "Matrix([\n",
       "[-sqrt(2)/(4*l), -sqrt(2)/(4*l),  1/(4*r), m/4],\n",
       "[-sqrt(2)/(4*l),  sqrt(2)/(4*l), -1/(4*r), m/4],\n",
       "[ sqrt(2)/(4*l),  sqrt(2)/(4*l),  1/(4*r), m/4],\n",
       "[ sqrt(2)/(4*l), -sqrt(2)/(4*l), -1/(4*r), m/4]])"
      ]
     },
     "metadata": {},
     "output_type": "display_data"
    }
   ],
   "source": [
    "phidotdot, thetadotdot, psidotdot = sp.symbols('phidotdot, thetadotdot, psidotdot')\n",
    "zdotdot = sp.symbols('zdotdot')\n",
    "l, r, m = sp.symbols('l, r, m')\n",
    "\n",
    "T = sp.Matrix([\n",
    "  [-l / sp.sqrt(2), -l / sp.sqrt(2), l / sp.sqrt(2), l / sp.sqrt(2)],\n",
    "  [-l / sp.sqrt(2), l / sp.sqrt(2), l / sp.sqrt(2), -l / sp.sqrt(2)],\n",
    "  [r, -r, r, -r],\n",
    "  [1 / m, 1 / m, 1 / m, 1 / m]\n",
    "])\n",
    "\n",
    "display(T.inv())"
   ]
  }
 ],
 "metadata": {
  "kernelspec": {
   "display_name": "base",
   "language": "python",
   "name": "python3"
  },
  "language_info": {
   "codemirror_mode": {
    "name": "ipython",
    "version": 3
   },
   "file_extension": ".py",
   "mimetype": "text/x-python",
   "name": "python",
   "nbconvert_exporter": "python",
   "pygments_lexer": "ipython3",
   "version": "3.9.13"
  },
  "orig_nbformat": 4,
  "vscode": {
   "interpreter": {
    "hash": "ec62f2ec7c7d49224ec335e3ef472b8ef537dc7949933ed74784e8710c2a92fb"
   }
  }
 },
 "nbformat": 4,
 "nbformat_minor": 2
}
